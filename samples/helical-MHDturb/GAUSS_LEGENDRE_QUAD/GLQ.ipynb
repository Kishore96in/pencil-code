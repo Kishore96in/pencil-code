{
 "cells": [
  {
   "cell_type": "code",
   "execution_count": 69,
   "metadata": {},
   "outputs": [],
   "source": [
    "import numpy as np\n",
    "nmax=36\n",
    "precision=8\n",
    "\n",
    "file='gauss-legendre-quadrature_n'+str(nmax)+'p'+str(precision)+'.dat'\n",
    "with open(file,'w') as f:\n",
    "    f.write(\"%s\\n\" % nmax)\n",
    "t='{:.'+str(precision)+'f}'\n",
    "\n",
    "for i in range(1,nmax+1):\n",
    "    glq=np.transpose(np.asarray((np.polynomial.legendre.leggauss(i))))\n",
    "    with open(file, 'a') as f:\n",
    "        for j in glq:\n",
    "            for k in j:\n",
    "                f.write(\"%s\\n\" % t.format(k))\n",
    "        for j in range(2*nmax-2*i):\n",
    "            f.write(\"0.\\n\")"
   ]
  }
 ],
 "metadata": {
  "kernelspec": {
   "display_name": "Python 3",
   "language": "python",
   "name": "python3"
  },
  "language_info": {
   "codemirror_mode": {
    "name": "ipython",
    "version": 3
   },
   "file_extension": ".py",
   "mimetype": "text/x-python",
   "name": "python",
   "nbconvert_exporter": "python",
   "pygments_lexer": "ipython3",
   "version": "3.8.3"
  }
 },
 "nbformat": 4,
 "nbformat_minor": 4
}
